{
  "nbformat": 4,
  "nbformat_minor": 0,
  "metadata": {
    "colab": {
      "provenance": []
    },
    "kernelspec": {
      "name": "python3",
      "display_name": "Python 3"
    },
    "language_info": {
      "name": "python"
    }
  },
  "cells": [
    {
      "cell_type": "code",
      "execution_count": null,
      "metadata": {
        "colab": {
          "base_uri": "https://localhost:8080/"
        },
        "id": "ZdpBoXa6QVcV",
        "outputId": "cba2cc68-4020-4127-8be3-e1d0c758972f"
      },
      "outputs": [
        {
          "output_type": "stream",
          "name": "stdout",
          "text": [
            "Looking in indexes: https://pypi.org/simple, https://us-python.pkg.dev/colab-wheels/public/simple/\n",
            "Collecting scikit-fuzzy\n",
            "  Downloading scikit-fuzzy-0.4.2.tar.gz (993 kB)\n",
            "\u001b[K     |████████████████████████████████| 993 kB 35.2 MB/s \n",
            "\u001b[?25hRequirement already satisfied: numpy>=1.6.0 in /usr/local/lib/python3.7/dist-packages (from scikit-fuzzy) (1.21.6)\n",
            "Requirement already satisfied: scipy>=0.9.0 in /usr/local/lib/python3.7/dist-packages (from scikit-fuzzy) (1.7.3)\n",
            "Requirement already satisfied: networkx>=1.9.0 in /usr/local/lib/python3.7/dist-packages (from scikit-fuzzy) (2.6.3)\n",
            "Building wheels for collected packages: scikit-fuzzy\n",
            "  Building wheel for scikit-fuzzy (setup.py) ... \u001b[?25l\u001b[?25hdone\n",
            "  Created wheel for scikit-fuzzy: filename=scikit_fuzzy-0.4.2-py3-none-any.whl size=894089 sha256=5567aa7822ff93690bcb08b6344c9dd406a65e3a30f7b370d6110fdf619e5987\n",
            "  Stored in directory: /root/.cache/pip/wheels/d5/74/fc/38588a3d2e3f34f74588e6daa3aa5b0a322bd6f9420a707131\n",
            "Successfully built scikit-fuzzy\n",
            "Installing collected packages: scikit-fuzzy\n",
            "Successfully installed scikit-fuzzy-0.4.2\n"
          ]
        }
      ],
      "source": [
        "!pip install -U scikit-fuzzy"
      ]
    },
    {
      "cell_type": "code",
      "source": [
        "import numpy as np\n",
        "import matplotlib.pyplot as plt\n",
        "import skfuzzy as fuzz\n",
        "from skfuzzy import control as ctrl"
      ],
      "metadata": {
        "id": "bJuokM9wQWLm"
      },
      "execution_count": null,
      "outputs": []
    },
    {
      "cell_type": "code",
      "source": [
        "value = 1.5\n",
        "\n",
        "volt = np.arange(0, 6, 1)\n",
        "rpm = np.arange(0, 500, 100)\n",
        "\n",
        "i_null = fuzz.trimf(volt, [0, 0, 1])\n",
        "i_zero = fuzz.trimf(volt, [0, 1, 2])\n",
        "i_small = fuzz.trimf(volt, [1, 2, 3])\n",
        "i_medium = fuzz.trimf(volt, [2, 3, 4])\n",
        "i_large = fuzz.trimf(volt, [3,4,5])\n",
        "i_very_large = fuzz.trimf(volt, [4, 5, 5])\n",
        "\n",
        "#MEMBERSHIP FUNC\n",
        "o_zero = fuzz.trimf(rpm, [0, 0, 100]) \n",
        "o_small = fuzz.trimf(rpm, [0,100,200])\n",
        "o_medium = fuzz.trimf(rpm, [100, 200, 300])\n",
        "o_large = fuzz.trimf(rpm, [200,300,400])\n",
        "o_very_large = fuzz.trimf(rpm, [300, 400, 400])\n",
        "\n",
        "\n",
        "volt_level_null = fuzz.interp_membership(volt, i_null, value)\n",
        "volt_level_zero = fuzz.interp_membership(volt, i_zero, value)\n",
        "volt_level_small = fuzz.interp_membership(volt, i_small, value)\n",
        "volt_level_medium = fuzz.interp_membership(volt, i_medium, value)\n",
        "volt_level_large = fuzz.interp_membership(volt, i_large, value)\n",
        "volt_level_very_large = fuzz.interp_membership(volt, i_very_large, value)\n",
        "\n",
        "active_rule1 = np.fmax(volt_level_null, volt_level_zero)\n",
        "rpm_activation_zero = np.fmin(active_rule1,o_zero)\n",
        "rpm_activation_small = np.fmin(volt_level_small, o_small)\n",
        "rpm_activation_medium = np.fmin(volt_level_medium, o_medium)\n",
        "rpm_activation_large = np.fmin(volt_level_large, o_large)\n",
        "rpm_activation_very_large = np.fmin(volt_level_very_large, o_very_large)\n",
        "\n",
        "rmp_dummy = np.zeros_like(rpm)\n",
        "aggregated = np.fmax(rpm_activation_zero, np.fmax(rpm_activation_small, np.fmax(rpm_activation_medium,np.fmax(rpm_activation_large,rpm_activation_very_large))))\n",
        "\n",
        "\n",
        "\n",
        "rpm_out = fuzz.defuzz(rpm, aggregated, 'centroid')\n",
        "\n",
        "\n",
        "\n",
        "\n",
        "rpm_out"
      ],
      "metadata": {
        "colab": {
          "base_uri": "https://localhost:8080/"
        },
        "id": "PFeO7EmGQWIL",
        "outputId": "c39c9fc9-e1a0-4b7c-80cf-7382a3a943c9"
      },
      "execution_count": null,
      "outputs": [
        {
          "output_type": "execute_result",
          "data": {
            "text/plain": [
              "77.77777777777777"
            ]
          },
          "metadata": {},
          "execution_count": 3
        }
      ]
    }
  ]
}